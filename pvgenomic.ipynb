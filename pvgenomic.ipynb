{
 "cells": [
  {
   "cell_type": "code",
   "execution_count": 1,
   "id": "547f7465-ceb6-423d-803b-8d0ff6e36d02",
   "metadata": {},
   "outputs": [],
   "source": [
    "import posixpath\n",
    "from pygenomeviz import GenomeViz\n",
    "from pygenomeviz.parser import Gff\n",
    "from pygenomeviz.parser import Genbank\n",
    "from pygenomeviz.align import MMseqs\n",
    "from pygenomeviz.utils import load_example_gff_file\n",
    "from pathlib import Path"
   ]
  },
  {
   "cell_type": "code",
   "execution_count": null,
   "id": "484232d4-7aee-4773-ac6e-27bb75fa56bb",
   "metadata": {},
   "outputs": [],
   "source": [
    "gbk_file = [\"./K_069_3.gbff\",\"./K_074_4.gbff\",\"./K_105_2.gbff\",\"./K_002_2.gbff\",\n",
    "            \"./K_098_2.gbff\",\"./K_005_2.gbff\",\"./K_137_2.gbff\", \"./K_157_2.gbff\",\n",
    "            \"./K_046_2.gbff\",\"./K_058_2.gbff\",\"./K_151_2.gbff\",\"./K_158_3.gbff\",\n",
    "            \"./K_160_2.gbff\",\"./K_195_2.gbff\",\"./K_229_3.gbff\",\"./K_154_3.gbff\"]\n",
    "gbk_path = [Path(path) for path in gbk_file]\n",
    "gbk_list = list(map(Genbank, gbk_path))\n",
    "\n",
    "gv = GenomeViz(fig_track_height=1.2, feature_track_ratio=0.4, fig_width=65)\n",
    "gv.set_scale_xticks(labelsize=50)\n",
    "\n",
    "# Plot CDS features\n",
    "for gbk in gbk_list:\n",
    "    track = gv.add_feature_track(gbk.name, gbk.get_seqid2size(), align_label=False,labelsize=50)\n",
    "    for seqid, features in gbk.get_seqid2features(\"CDS\").items():\n",
    "        segment = track.get_segment(seqid)\n",
    "        for feature in features:\n",
    "            gene_name = str(feature.qualifiers.get(\"gene\", [\"\"])[0])\n",
    "    # Set user-defined feature color based on gene name\n",
    "            if gene_name.startswith(\"ybt\"):\n",
    "                color = \"#74C376\"\n",
    "                segment.add_features(feature, plotstyle=\"arrow\", color=color, label_type=\"gene\",text_kws=dict(size=25, color=color))\n",
    "            elif gene_name in (\"irp1\", \"irp2\", \"fyuA\"):\n",
    "                color = \"#74C376\"\n",
    "                segment.add_features(feature, plotstyle=\"arrow\", color=color, label_type=\"gene\",text_kws=dict(size=25, color=color))\n",
    "            elif gene_name in (\"tet(A)\", \"sul2\", \"blaCMY-2\", \"blaCTX-M-8\", \"aph(3')-Ia\", \"aadA1\"):\n",
    "                color = \"#9A1E13\"\n",
    "                segment.add_features(feature, plotstyle=\"bigarrow\", color=color, label_type=\"gene\",text_kws=dict(size=25, color=color))\n",
    "            elif gene_name in (\"traF\", \"traH\", \"tnp\", \"yqaJ\",\"mobI\"):\n",
    "                color = \"#4090C0\"\n",
    "                segment.add_features(feature, plotstyle=\"arrow\", color=color, label_type=\"gene\",text_kws=dict(size=25, color=color))\n",
    "            elif gene_name.startswith(\"IS\"):\n",
    "                color = \"#4090C0\"\n",
    "                segment.add_features(feature, plotstyle=\"arrow\", color=color, label_type=\"gene\",text_kws=dict(size=25, color=color))\n",
    "            else:\n",
    "                color = \"#6A51A3\"\n",
    "                segment.add_features(feature, plotstyle=\"box\", color=color)\n",
    "\n",
    "# Run MMseqs RBH search\n",
    "align_coords = MMseqs(gbk_list).run()\n",
    "\n",
    "# Plot MMseqs RBH search links\n",
    "if len(align_coords) > 0:\n",
    "    min_ident = int(min([ac.identity for ac in align_coords if ac.identity]))\n",
    "    color, inverted_color = \"#0070FF\", \"red\"\n",
    "    for ac in align_coords:\n",
    "        gv.add_link(ac.query_link, ac.ref_link, color=color, inverted_color=inverted_color, v=ac.identity, vmin=min_ident, curve=True)\n",
    "    gv.set_colorbar([color, inverted_color], vmin=min_ident)\n",
    "\n",
    "fig = gv.plotfig()\n"
   ]
  },
  {
   "cell_type": "code",
   "execution_count": 3,
   "id": "a218e04b-8602-483f-baf1-b93b641d4c0e",
   "metadata": {},
   "outputs": [],
   "source": [
    "gv.savefig(savefile=\"./plot.jpg\",dpi=300)"
   ]
  }
 ],
 "metadata": {
  "kernelspec": {
   "display_name": "Python 3 (ipykernel)",
   "language": "python",
   "name": "python3"
  },
  "language_info": {
   "codemirror_mode": {
    "name": "ipython",
    "version": 3
   },
   "file_extension": ".py",
   "mimetype": "text/x-python",
   "name": "python",
   "nbconvert_exporter": "python",
   "pygments_lexer": "ipython3",
   "version": "3.12.3"
  }
 },
 "nbformat": 4,
 "nbformat_minor": 5
}
